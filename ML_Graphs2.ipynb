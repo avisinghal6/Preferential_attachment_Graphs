{
  "nbformat": 4,
  "nbformat_minor": 0,
  "metadata": {
    "colab": {
      "provenance": [],
      "authorship_tag": "ABX9TyPgO8zLmH60+y99dnxdejOL",
      "include_colab_link": true
    },
    "kernelspec": {
      "name": "python3",
      "display_name": "Python 3"
    },
    "language_info": {
      "name": "python"
    }
  },
  "cells": [
    {
      "cell_type": "markdown",
      "metadata": {
        "id": "view-in-github",
        "colab_type": "text"
      },
      "source": [
        "<a href=\"https://colab.research.google.com/github/avisinghal6/Preferential_attachment_Graphs/blob/main/ML_Graphs2.ipynb\" target=\"_parent\"><img src=\"https://colab.research.google.com/assets/colab-badge.svg\" alt=\"Open In Colab\"/></a>"
      ]
    },
    {
      "cell_type": "code",
      "execution_count": 1,
      "metadata": {
        "id": "CvePa9z_SbcM"
      },
      "outputs": [],
      "source": [
        "import networkx as nx"
      ]
    },
    {
      "cell_type": "code",
      "source": [
        "import numpy as np"
      ],
      "metadata": {
        "id": "fzCHpIkMU1x7"
      },
      "execution_count": 2,
      "outputs": []
    },
    {
      "cell_type": "code",
      "source": [
        "G=nx.Graph()\n",
        "for i in range(12):\n",
        "  G.add_node(i)\n",
        "\n",
        "G.add_edge(0,1)\n",
        "G.add_edge(0,2)\n",
        "G.add_edge(0,3)\n",
        "G.add_edge(4,5)\n",
        "G.add_edge(4,6)\n",
        "G.add_edge(4,7)\n",
        "G.add_edge(8,9)\n",
        "G.add_edge(8,10)\n",
        "G.add_edge(8,11)\n"
      ],
      "metadata": {
        "id": "zCXsbKvNSm4F"
      },
      "execution_count": 3,
      "outputs": []
    },
    {
      "cell_type": "code",
      "source": [
        "pos = nx.spring_layout(G)\n",
        "nx.draw(\n",
        "  G, pos, edge_color='black', width=1, linewidths=1,\n",
        "  node_size=500, node_color='pink', alpha=0.9,\n",
        "  labels={node: node for node in G.nodes()}\n",
        ")\n"
      ],
      "metadata": {
        "colab": {
          "base_uri": "https://localhost:8080/",
          "height": 319
        },
        "id": "PnOMyBjRSiAK",
        "outputId": "24920c05-9d75-4b8c-d28a-3632113b3c91"
      },
      "execution_count": 4,
      "outputs": [
        {
          "output_type": "display_data",
          "data": {
            "text/plain": [
              "<Figure size 432x288 with 1 Axes>"
            ],
            "image/png": "[encoded data removed]"
          },
          "metadata": {}
        }
      ]
    },
    {
      "cell_type": "markdown",
      "source": [
        "If I only consider the 3 nodes with highest degree, then below are the results."
      ],
      "metadata": {
        "id": "Ojk8TSmnIk2X"
      }
    },
    {
      "cell_type": "code",
      "source": [
        "from sklearn.metrics import accuracy_score, confusion_matrix, roc_auc_score, roc_curve,f1_score"
      ],
      "metadata": {
        "id": "df77TOOvHu0D"
      },
      "execution_count": 8,
      "outputs": []
    },
    {
      "cell_type": "code",
      "source": [
        "True_GraphA=[1,0,0]\n",
        "Pred_GraphA=[1,1,1]\n",
        "auc=roc_auc_score(True_GraphA,Pred_GraphA)\n",
        "f1score = f1_score(True_GraphA,Pred_GraphA)\n",
        "print(f\"AUC Score:{auc}, F1score:{f1score}\")"
      ],
      "metadata": {
        "colab": {
          "base_uri": "https://localhost:8080/"
        },
        "id": "kpxFqpRHH3Gg",
        "outputId": "37c11e6a-221b-4a36-c257-d9640b92055d"
      },
      "execution_count": 11,
      "outputs": [
        {
          "output_type": "stream",
          "name": "stdout",
          "text": [
            "AUC Score:0.5, F1score:0.5\n"
          ]
        }
      ]
    },
    {
      "cell_type": "code",
      "source": [
        "True_GraphB=[1,1,0]\n",
        "Pred_GraphB=[1,1,1]\n",
        "auc=roc_auc_score(True_GraphB,Pred_GraphB)\n",
        "f1score = f1_score(True_GraphB,Pred_GraphB)\n",
        "print(f\"AUC Score:{auc}, F1score:{f1score}\")"
      ],
      "metadata": {
        "colab": {
          "base_uri": "https://localhost:8080/"
        },
        "id": "q9dd3WQGH3JS",
        "outputId": "638a7a42-2c48-44b0-ce9a-3694a48ba43b"
      },
      "execution_count": 13,
      "outputs": [
        {
          "output_type": "stream",
          "name": "stdout",
          "text": [
            "AUC Score:0.5, F1score:0.8\n"
          ]
        }
      ]
    },
    {
      "cell_type": "markdown",
      "source": [
        "AUC is the same for both the graphs, so it does not distinguish between the two settings, but using F1 score we can see a distinction, the F1score is higher for case 2. Below, I consider all the edges and their proabilities instead of just considering the 3 as above."
      ],
      "metadata": {
        "id": "b76R8CxpIt0l"
      }
    },
    {
      "cell_type": "code",
      "source": [],
      "metadata": {
        "id": "cuBrKEcoH3ML"
      },
      "execution_count": null,
      "outputs": []
    },
    {
      "cell_type": "code",
      "source": [
        "preds = nx.preferential_attachment(G)"
      ],
      "metadata": {
        "id": "CRlCc0YrTM0Q"
      },
      "execution_count": 16,
      "outputs": []
    },
    {
      "cell_type": "code",
      "source": [
        "\n",
        "for u, v, p in preds:\n",
        "  print(f\"({u}, {v}) -> {p}\")"
      ],
      "metadata": {
        "colab": {
          "base_uri": "https://localhost:8080/"
        },
        "id": "D9KX2fzoTqJ-",
        "outputId": "670cc8a6-61ba-41dc-a0b2-545d4d04837d"
      },
      "execution_count": 15,
      "outputs": [
        {
          "output_type": "stream",
          "name": "stdout",
          "text": [
            "(0, 4) -> 9\n",
            "(0, 5) -> 3\n",
            "(0, 6) -> 3\n",
            "(0, 7) -> 3\n",
            "(0, 8) -> 9\n",
            "(0, 9) -> 3\n",
            "(0, 10) -> 3\n",
            "(0, 11) -> 3\n",
            "(1, 2) -> 1\n",
            "(1, 3) -> 1\n",
            "(1, 4) -> 3\n",
            "(1, 5) -> 1\n",
            "(1, 6) -> 1\n",
            "(1, 7) -> 1\n",
            "(1, 8) -> 3\n",
            "(1, 9) -> 1\n",
            "(1, 10) -> 1\n",
            "(1, 11) -> 1\n",
            "(2, 3) -> 1\n",
            "(2, 4) -> 3\n",
            "(2, 5) -> 1\n",
            "(2, 6) -> 1\n",
            "(2, 7) -> 1\n",
            "(2, 8) -> 3\n",
            "(2, 9) -> 1\n",
            "(2, 10) -> 1\n",
            "(2, 11) -> 1\n",
            "(3, 4) -> 3\n",
            "(3, 5) -> 1\n",
            "(3, 6) -> 1\n",
            "(3, 7) -> 1\n",
            "(3, 8) -> 3\n",
            "(3, 9) -> 1\n",
            "(3, 10) -> 1\n",
            "(3, 11) -> 1\n",
            "(4, 8) -> 9\n",
            "(4, 9) -> 3\n",
            "(4, 10) -> 3\n",
            "(4, 11) -> 3\n",
            "(5, 6) -> 1\n",
            "(5, 7) -> 1\n",
            "(5, 8) -> 3\n",
            "(5, 9) -> 1\n",
            "(5, 10) -> 1\n",
            "(5, 11) -> 1\n",
            "(6, 7) -> 1\n",
            "(6, 8) -> 3\n",
            "(6, 9) -> 1\n",
            "(6, 10) -> 1\n",
            "(6, 11) -> 1\n",
            "(7, 8) -> 3\n",
            "(7, 9) -> 1\n",
            "(7, 10) -> 1\n",
            "(7, 11) -> 1\n",
            "(9, 10) -> 1\n",
            "(9, 11) -> 1\n",
            "(10, 11) -> 1\n"
          ]
        }
      ]
    },
    {
      "cell_type": "code",
      "source": [
        "predictions=np.zeros((1,57))\n",
        "i=0\n",
        "for u, v, p in preds:\n",
        "  predictions[0][i]=p\n",
        "  i+=1"
      ],
      "metadata": {
        "id": "sfg7_UucTq7c"
      },
      "execution_count": 17,
      "outputs": []
    },
    {
      "cell_type": "code",
      "source": [
        "predictions"
      ],
      "metadata": {
        "colab": {
          "base_uri": "https://localhost:8080/"
        },
        "id": "G6r7Q3_nUiIN",
        "outputId": "3efe246a-7695-4ed0-ec5e-f2351393a529"
      },
      "execution_count": 18,
      "outputs": [
        {
          "output_type": "execute_result",
          "data": {
            "text/plain": [
              "array([[9., 3., 3., 3., 9., 3., 3., 3., 1., 1., 3., 1., 1., 1., 3., 1.,\n",
              "        1., 1., 1., 3., 1., 1., 1., 3., 1., 1., 1., 3., 1., 1., 1., 3.,\n",
              "        1., 1., 1., 9., 3., 3., 3., 1., 1., 3., 1., 1., 1., 1., 3., 1.,\n",
              "        1., 1., 3., 1., 1., 1., 1., 1., 1.]])"
            ]
          },
          "metadata": {},
          "execution_count": 18
        }
      ]
    },
    {
      "cell_type": "code",
      "source": [
        "predictions=predictions/np.sum(predictions)"
      ],
      "metadata": {
        "id": "eiRGYbESWhX_"
      },
      "execution_count": 19,
      "outputs": []
    },
    {
      "cell_type": "code",
      "source": [
        "predictions=predictions.T"
      ],
      "metadata": {
        "id": "8yk5QEEkWvl2"
      },
      "execution_count": 20,
      "outputs": []
    },
    {
      "cell_type": "code",
      "source": [
        "predictions"
      ],
      "metadata": {
        "colab": {
          "base_uri": "https://localhost:8080/"
        },
        "id": "SGYO6xL9Zj3X",
        "outputId": "a646887b-3f64-4b63-e57c-1dc877905bb7"
      },
      "execution_count": 21,
      "outputs": [
        {
          "output_type": "execute_result",
          "data": {
            "text/plain": [
              "array([[0.07692308],\n",
              "       [0.02564103],\n",
              "       [0.02564103],\n",
              "       [0.02564103],\n",
              "       [0.07692308],\n",
              "       [0.02564103],\n",
              "       [0.02564103],\n",
              "       [0.02564103],\n",
              "       [0.00854701],\n",
              "       [0.00854701],\n",
              "       [0.02564103],\n",
              "       [0.00854701],\n",
              "       [0.00854701],\n",
              "       [0.00854701],\n",
              "       [0.02564103],\n",
              "       [0.00854701],\n",
              "       [0.00854701],\n",
              "       [0.00854701],\n",
              "       [0.00854701],\n",
              "       [0.02564103],\n",
              "       [0.00854701],\n",
              "       [0.00854701],\n",
              "       [0.00854701],\n",
              "       [0.02564103],\n",
              "       [0.00854701],\n",
              "       [0.00854701],\n",
              "       [0.00854701],\n",
              "       [0.02564103],\n",
              "       [0.00854701],\n",
              "       [0.00854701],\n",
              "       [0.00854701],\n",
              "       [0.02564103],\n",
              "       [0.00854701],\n",
              "       [0.00854701],\n",
              "       [0.00854701],\n",
              "       [0.07692308],\n",
              "       [0.02564103],\n",
              "       [0.02564103],\n",
              "       [0.02564103],\n",
              "       [0.00854701],\n",
              "       [0.00854701],\n",
              "       [0.02564103],\n",
              "       [0.00854701],\n",
              "       [0.00854701],\n",
              "       [0.00854701],\n",
              "       [0.00854701],\n",
              "       [0.02564103],\n",
              "       [0.00854701],\n",
              "       [0.00854701],\n",
              "       [0.00854701],\n",
              "       [0.02564103],\n",
              "       [0.00854701],\n",
              "       [0.00854701],\n",
              "       [0.00854701],\n",
              "       [0.00854701],\n",
              "       [0.00854701],\n",
              "       [0.00854701]])"
            ]
          },
          "metadata": {},
          "execution_count": 21
        }
      ]
    },
    {
      "cell_type": "code",
      "source": [
        "true_labels=np.zeros((57,1))"
      ],
      "metadata": {
        "id": "PDE42HWgUqG9"
      },
      "execution_count": 22,
      "outputs": []
    },
    {
      "cell_type": "code",
      "source": [
        "true_labels[0][0]=1"
      ],
      "metadata": {
        "id": "gOukBG-CVWwd"
      },
      "execution_count": 23,
      "outputs": []
    },
    {
      "cell_type": "code",
      "source": [
        "# true_labels=true_labels.T\n",
        "true_labels"
      ],
      "metadata": {
        "colab": {
          "base_uri": "https://localhost:8080/"
        },
        "id": "yxcZB6rDVjDs",
        "outputId": "4227458d-8b13-4ab9-cd2f-02b2a41c5c00"
      },
      "execution_count": 24,
      "outputs": [
        {
          "output_type": "execute_result",
          "data": {
            "text/plain": [
              "array([[1.],\n",
              "       [0.],\n",
              "       [0.],\n",
              "       [0.],\n",
              "       [0.],\n",
              "       [0.],\n",
              "       [0.],\n",
              "       [0.],\n",
              "       [0.],\n",
              "       [0.],\n",
              "       [0.],\n",
              "       [0.],\n",
              "       [0.],\n",
              "       [0.],\n",
              "       [0.],\n",
              "       [0.],\n",
              "       [0.],\n",
              "       [0.],\n",
              "       [0.],\n",
              "       [0.],\n",
              "       [0.],\n",
              "       [0.],\n",
              "       [0.],\n",
              "       [0.],\n",
              "       [0.],\n",
              "       [0.],\n",
              "       [0.],\n",
              "       [0.],\n",
              "       [0.],\n",
              "       [0.],\n",
              "       [0.],\n",
              "       [0.],\n",
              "       [0.],\n",
              "       [0.],\n",
              "       [0.],\n",
              "       [0.],\n",
              "       [0.],\n",
              "       [0.],\n",
              "       [0.],\n",
              "       [0.],\n",
              "       [0.],\n",
              "       [0.],\n",
              "       [0.],\n",
              "       [0.],\n",
              "       [0.],\n",
              "       [0.],\n",
              "       [0.],\n",
              "       [0.],\n",
              "       [0.],\n",
              "       [0.],\n",
              "       [0.],\n",
              "       [0.],\n",
              "       [0.],\n",
              "       [0.],\n",
              "       [0.],\n",
              "       [0.],\n",
              "       [0.]])"
            ]
          },
          "metadata": {},
          "execution_count": 24
        }
      ]
    },
    {
      "cell_type": "code",
      "source": [
        "from sklearn.metrics import accuracy_score, confusion_matrix, roc_auc_score, roc_curve\n",
        "import matplotlib.pyplot as plt"
      ],
      "metadata": {
        "id": "p-I0E4ltVj0b"
      },
      "execution_count": 25,
      "outputs": []
    },
    {
      "cell_type": "code",
      "source": [
        "fpr, tpr, thresholds = roc_curve(true_labels, predictions)\n",
        "plt.plot(fpr, tpr)\n",
        "print(thresholds)\n",
        "print(fpr)\n",
        "print(tpr)\n",
        "plt.xlabel('False Positive Rate')\n",
        "plt.ylabel('True Positive Rate')"
      ],
      "metadata": {
        "colab": {
          "base_uri": "https://localhost:8080/",
          "height": 347
        },
        "id": "tgia5lC-VqjI",
        "outputId": "9bf6885a-3abc-4c84-abde-d6e9379df59a"
      },
      "execution_count": 26,
      "outputs": [
        {
          "output_type": "stream",
          "name": "stdout",
          "text": [
            "[1.07692308 0.07692308 0.02564103 0.00854701]\n",
            "[0.         0.03571429 0.35714286 1.        ]\n",
            "[0. 1. 1. 1.]\n"
          ]
        },
        {
          "output_type": "execute_result",
          "data": {
            "text/plain": [
              "Text(0, 0.5, 'True Positive Rate')"
            ]
          },
          "metadata": {},
          "execution_count": 26
        },
        {
          "output_type": "display_data",
          "data": {
            "text/plain": [
              "<Figure size 432x288 with 1 Axes>"
            ],
            "image/png": "[encoded data removed]"
          },
          "metadata": {
            "needs_background": "light"
          }
        }
      ]
    },
    {
      "cell_type": "code",
      "source": [
        "roc_auc_score(true_labels, predictions)"
      ],
      "metadata": {
        "colab": {
          "base_uri": "https://localhost:8080/"
        },
        "id": "yzPzWoT0VxD_",
        "outputId": "5c370d1b-2cd4-4e52-be22-1550052e964e"
      },
      "execution_count": 29,
      "outputs": [
        {
          "output_type": "execute_result",
          "data": {
            "text/plain": [
              "0.9821428571428571"
            ]
          },
          "metadata": {},
          "execution_count": 29
        }
      ]
    },
    {
      "cell_type": "code",
      "source": [
        "true_labels2=np.zeros((57,1))"
      ],
      "metadata": {
        "id": "S_I-SyeuWJBq"
      },
      "execution_count": 30,
      "outputs": []
    },
    {
      "cell_type": "code",
      "source": [
        "true_labels2[0][0]=1\n",
        "true_labels2[35][0]=1\n"
      ],
      "metadata": {
        "id": "8aR13xbLYV-3"
      },
      "execution_count": 31,
      "outputs": []
    },
    {
      "cell_type": "code",
      "source": [
        "true_labels2"
      ],
      "metadata": {
        "colab": {
          "base_uri": "https://localhost:8080/"
        },
        "id": "RSlphZ4Qc-Vs",
        "outputId": "91ccbc2e-29c8-4d47-af97-a7bce052e0f9"
      },
      "execution_count": 32,
      "outputs": [
        {
          "output_type": "execute_result",
          "data": {
            "text/plain": [
              "array([[1.],\n",
              "       [0.],\n",
              "       [0.],\n",
              "       [0.],\n",
              "       [0.],\n",
              "       [0.],\n",
              "       [0.],\n",
              "       [0.],\n",
              "       [0.],\n",
              "       [0.],\n",
              "       [0.],\n",
              "       [0.],\n",
              "       [0.],\n",
              "       [0.],\n",
              "       [0.],\n",
              "       [0.],\n",
              "       [0.],\n",
              "       [0.],\n",
              "       [0.],\n",
              "       [0.],\n",
              "       [0.],\n",
              "       [0.],\n",
              "       [0.],\n",
              "       [0.],\n",
              "       [0.],\n",
              "       [0.],\n",
              "       [0.],\n",
              "       [0.],\n",
              "       [0.],\n",
              "       [0.],\n",
              "       [0.],\n",
              "       [0.],\n",
              "       [0.],\n",
              "       [0.],\n",
              "       [0.],\n",
              "       [1.],\n",
              "       [0.],\n",
              "       [0.],\n",
              "       [0.],\n",
              "       [0.],\n",
              "       [0.],\n",
              "       [0.],\n",
              "       [0.],\n",
              "       [0.],\n",
              "       [0.],\n",
              "       [0.],\n",
              "       [0.],\n",
              "       [0.],\n",
              "       [0.],\n",
              "       [0.],\n",
              "       [0.],\n",
              "       [0.],\n",
              "       [0.],\n",
              "       [0.],\n",
              "       [0.],\n",
              "       [0.],\n",
              "       [0.]])"
            ]
          },
          "metadata": {},
          "execution_count": 32
        }
      ]
    },
    {
      "cell_type": "code",
      "source": [
        "fpr, tpr, thresholds = roc_curve(true_labels2, predictions)\n",
        "plt.plot(fpr, tpr)\n",
        "print(thresholds)\n",
        "print(fpr)\n",
        "print(tpr)\n",
        "plt.xlabel('False Positive Rate')\n",
        "plt.ylabel('True Positive Rate')"
      ],
      "metadata": {
        "colab": {
          "base_uri": "https://localhost:8080/",
          "height": 347
        },
        "id": "maeoF99JYhuQ",
        "outputId": "793eed13-9e87-449d-86c7-36e3204d9088"
      },
      "execution_count": 33,
      "outputs": [
        {
          "output_type": "stream",
          "name": "stdout",
          "text": [
            "[1.07692308 0.07692308 0.02564103 0.00854701]\n",
            "[0.         0.01818182 0.34545455 1.        ]\n",
            "[0. 1. 1. 1.]\n"
          ]
        },
        {
          "output_type": "execute_result",
          "data": {
            "text/plain": [
              "Text(0, 0.5, 'True Positive Rate')"
            ]
          },
          "metadata": {},
          "execution_count": 33
        },
        {
          "output_type": "display_data",
          "data": {
            "text/plain": [
              "<Figure size 432x288 with 1 Axes>"
            ],
            "image/png": "[encoded data removed]"
          },
          "metadata": {
            "needs_background": "light"
          }
        }
      ]
    },
    {
      "cell_type": "code",
      "source": [
        "roc_auc_score(true_labels2, predictions)"
      ],
      "metadata": {
        "colab": {
          "base_uri": "https://localhost:8080/"
        },
        "id": "huiI1nsbYk4Z",
        "outputId": "2c692e60-c7bf-4699-e901-66998271bb0e"
      },
      "execution_count": 34,
      "outputs": [
        {
          "output_type": "execute_result",
          "data": {
            "text/plain": [
              "0.990909090909091"
            ]
          },
          "metadata": {},
          "execution_count": 34
        }
      ]
    },
    {
      "cell_type": "markdown",
      "source": [
        "In this case, the AUC shows a difference between the two settings, the AUC is higher for Case 2 which is as expected."
      ],
      "metadata": {
        "id": "PCQkCEzPJmhT"
      }
    },
    {
      "cell_type": "code",
      "source": [],
      "metadata": {
        "id": "Kn2cgduEpowI"
      },
      "execution_count": null,
      "outputs": []
    }
  ]
}